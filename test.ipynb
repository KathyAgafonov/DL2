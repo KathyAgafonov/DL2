{
 "cells": [
  {
   "cell_type": "markdown",
   "id": "d03740f8",
   "metadata": {},
   "source": [
    "Imports:"
   ]
  },
  {
   "cell_type": "code",
   "execution_count": 1,
   "id": "079baa8d",
   "metadata": {},
   "outputs": [],
   "source": [
    "# Imports:\n",
    "\n",
    "import os\n",
    "import glob\n",
    "import pandas as pd\n",
    "import numpy as np\n",
    "import matplotlib.pyplot as plt\n",
    "import seaborn as sns\n",
    "import cv2\n",
    "import random\n",
    "\n",
    "\n",
    "from sklearn.model_selection import GridSearchCV, train_test_split\n",
    "from sklearn.svm import SVC\n",
    "from sklearn.metrics import accuracy_score,classification_report\n",
    "from sklearn.decomposition import PCA\n"
   ]
  },
  {
   "cell_type": "markdown",
   "id": "fd218fd7",
   "metadata": {},
   "source": [
    "Load the data"
   ]
  },
  {
   "cell_type": "code",
   "execution_count": null,
   "id": "653bb502",
   "metadata": {},
   "outputs": [],
   "source": [
    "from sklearn.datasets import fetch_lfw_people\n",
    "\n",
    "# Download and load the dataset\n",
    "lfw_people = fetch_lfw_people(min_faces_per_person=5, resize=1)\n",
    "\n",
    "# Get the images and labels\n",
    "X = lfw_people.data\n",
    "y = lfw_people.target\n",
    "\n",
    "# Split into training and testing sets\n",
    "from sklearn.model_selection import train_test_split\n",
    "X_train, X_test, y_train, y_test = train_test_split(X, y, test_size=0.2, random_state=42)\n",
    "\n",
    "# Prince sizes:\n",
    "print(\"X_train shape:\", X_train.shape)\n",
    "print(\"X_test shape:\", X_test.shape)\n",
    "print(\"y_train shape:\", y_train.shape)\n",
    "print(\"y_test shape:\", y_test.shape)"
   ]
  },
  {
   "cell_type": "markdown",
   "id": "a2352f4c",
   "metadata": {},
   "source": [
    "# EDA"
   ]
  },
  {
   "cell_type": "code",
   "execution_count": null,
   "id": "f80f6510",
   "metadata": {},
   "outputs": [],
   "source": [
    "import matplotlib.pyplot as plt\n",
    "import numpy as np\n",
    "\n",
    "# Get some info from the dataset\n",
    "target_names = lfw_people.target_names\n",
    "images = lfw_people.images\n",
    "n_samples, h, w = images.shape\n",
    "\n",
    "# Show a few images of the same person\n",
    "def show_images_of_same_person(label_id, num=5):\n",
    "    idx = np.where(y == label_id)[0][:num]\n",
    "    fig, axs = plt.subplots(1, num, figsize=(20, 10))\n",
    "    fig.suptitle(f\"Images of {target_names[label_id]}\")\n",
    "    for i, ax in zip(idx, axs):\n",
    "        ax.imshow(images[i], cmap='gray')\n",
    "        ax.axis('off')\n",
    "    plt.show()\n",
    "\n",
    "# Show images of different people\n",
    "def show_images_of_different_people(num=5):\n",
    "    shown_labels = set()\n",
    "    fig, axs = plt.subplots(1, num, figsize=(20, 10))\n",
    "    i = 0\n",
    "    shown = 0\n",
    "    while shown < num and i < len(y):\n",
    "        if y[i] not in shown_labels:\n",
    "            axs[shown].imshow(images[i], cmap='gray')\n",
    "            axs[shown].set_title(target_names[y[i]], fontsize=8)\n",
    "            axs[shown].axis('off')\n",
    "            shown_labels.add(y[i])\n",
    "            shown += 1\n",
    "        i += 1\n",
    "    plt.suptitle(\"Images of Different People\")\n",
    "    plt.show()\n",
    "\n",
    "# Example usage\n",
    "show_images_of_same_person(label_id=12, num=10)  # Show 5 images of person 0\n",
    "show_images_of_different_people(num=10)         # Show 5 images of different people\n"
   ]
  },
  {
   "cell_type": "markdown",
   "id": "8b82b67a",
   "metadata": {},
   "source": [
    "# Code implementation"
   ]
  }
 ],
 "metadata": {
  "kernelspec": {
   "display_name": "base",
   "language": "python",
   "name": "python3"
  },
  "language_info": {
   "codemirror_mode": {
    "name": "ipython",
    "version": 3
   },
   "file_extension": ".py",
   "mimetype": "text/x-python",
   "name": "python",
   "nbconvert_exporter": "python",
   "pygments_lexer": "ipython3",
   "version": "3.10.13"
  }
 },
 "nbformat": 4,
 "nbformat_minor": 5
}
