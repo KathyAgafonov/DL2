{
 "cells": [
  {
   "cell_type": "markdown",
   "id": "d03740f8",
   "metadata": {},
   "source": [
    "Hi kathy!"
   ]
  },
  {
   "cell_type": "code",
   "execution_count": null,
   "id": "079baa8d",
   "metadata": {
    "vscode": {
     "languageId": "plaintext"
    }
   },
   "outputs": [],
   "source": []
  }
 ],
 "metadata": {
  "language_info": {
   "name": "python"
  }
 },
 "nbformat": 4,
 "nbformat_minor": 5
}
